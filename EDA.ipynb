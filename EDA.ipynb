{
 "cells": [
  {
   "cell_type": "markdown",
   "metadata": {},
   "source": [
    "# Wine\n",
    "\n",
    "## Required Packages"
   ]
  },
  {
   "cell_type": "code",
   "execution_count": 1,
   "metadata": {},
   "outputs": [],
   "source": [
    "import random\n",
    "import math\n",
    "import collections\n",
    "import string\n",
    "\n",
    "import pandas as pd\n",
    "import numpy as np\n",
    "import seaborn as sns\n",
    "import matplotlib.pyplot as plt\n",
    "import nltk\n",
    "from sklearn.feature_extraction.text import CountVectorizer\n",
    "\n",
    "seed = 42\n",
    "random.seed(seed)\n",
    "np.random.seed(42)"
   ]
  },
  {
   "cell_type": "markdown",
   "metadata": {},
   "source": [
    "## Read and Split Data"
   ]
  },
  {
   "cell_type": "code",
   "execution_count": 2,
   "metadata": {},
   "outputs": [
    {
     "name": "stdout",
     "output_type": "stream",
     "text": [
      "Columns: ['Unnamed: 0', 'country', 'description', 'designation', 'points', 'price', 'province', 'region_1', 'region_2', 'taster_name', 'taster_twitter_handle', 'title', 'variety', 'winery']\n",
      "N Rows: 129971\n",
      "Train shape: (77982, 14)\n",
      "Dev shape: (25994, 14)\n",
      "Test shape: (25995, 14)\n"
     ]
    }
   ],
   "source": [
    "# Read the data\n",
    "df = pd.read_csv('./data/winemag-data-130k-v2.csv')\n",
    "print(f'Columns: {list(df.columns)}')\n",
    "print(f'N Rows: {len(df.index)}')\n",
    "\n",
    "# split it into train, dev, and test\n",
    "# courtesy of https://stackoverflow.com/a/38251063\n",
    "perm = np.random.permutation(df.index)\n",
    "m = len(df.index)\n",
    "\n",
    "train_percent = .6\n",
    "dev_percent = .2\n",
    "\n",
    "train_end = int(m * train_percent)\n",
    "dev_end = int(m * dev_percent) + train_end\n",
    "\n",
    "train_df = df.iloc[perm[:train_end]]\n",
    "dev_df = df.iloc[perm[train_end:dev_end]]\n",
    "test_df = df.iloc[perm[dev_end:]]\n",
    "\n",
    "print(f'Train shape: {train_df.shape}')\n",
    "print(f'Dev shape: {dev_df.shape}')\n",
    "print(f'Test shape: {test_df.shape}')"
   ]
  },
  {
   "cell_type": "markdown",
   "metadata": {},
   "source": [
    "## Initial Investigation\n",
    "Let's start by just looking at the data and seeing what pops out to us. We'll spend a little time looking at the continuous values points and price, and then spend more time looking at the words"
   ]
  },
  {
   "cell_type": "code",
   "execution_count": 3,
   "metadata": {},
   "outputs": [
    {
     "data": {
      "text/html": [
       "<div>\n",
       "<style scoped>\n",
       "    .dataframe tbody tr th:only-of-type {\n",
       "        vertical-align: middle;\n",
       "    }\n",
       "\n",
       "    .dataframe tbody tr th {\n",
       "        vertical-align: top;\n",
       "    }\n",
       "\n",
       "    .dataframe thead th {\n",
       "        text-align: right;\n",
       "    }\n",
       "</style>\n",
       "<table border=\"1\" class=\"dataframe\">\n",
       "  <thead>\n",
       "    <tr style=\"text-align: right;\">\n",
       "      <th></th>\n",
       "      <th>Unnamed: 0</th>\n",
       "      <th>country</th>\n",
       "      <th>description</th>\n",
       "      <th>designation</th>\n",
       "      <th>points</th>\n",
       "      <th>price</th>\n",
       "      <th>province</th>\n",
       "      <th>region_1</th>\n",
       "      <th>region_2</th>\n",
       "      <th>taster_name</th>\n",
       "      <th>taster_twitter_handle</th>\n",
       "      <th>title</th>\n",
       "      <th>variety</th>\n",
       "      <th>winery</th>\n",
       "    </tr>\n",
       "  </thead>\n",
       "  <tbody>\n",
       "    <tr>\n",
       "      <td>count</td>\n",
       "      <td>77982.000000</td>\n",
       "      <td>77943</td>\n",
       "      <td>77982</td>\n",
       "      <td>55330</td>\n",
       "      <td>77982.000000</td>\n",
       "      <td>72568.000000</td>\n",
       "      <td>77943</td>\n",
       "      <td>65329</td>\n",
       "      <td>30329</td>\n",
       "      <td>62232</td>\n",
       "      <td>59215</td>\n",
       "      <td>77982</td>\n",
       "      <td>77981</td>\n",
       "      <td>77982</td>\n",
       "    </tr>\n",
       "    <tr>\n",
       "      <td>unique</td>\n",
       "      <td>NaN</td>\n",
       "      <td>42</td>\n",
       "      <td>74320</td>\n",
       "      <td>27151</td>\n",
       "      <td>NaN</td>\n",
       "      <td>NaN</td>\n",
       "      <td>393</td>\n",
       "      <td>1146</td>\n",
       "      <td>17</td>\n",
       "      <td>19</td>\n",
       "      <td>15</td>\n",
       "      <td>73824</td>\n",
       "      <td>644</td>\n",
       "      <td>14410</td>\n",
       "    </tr>\n",
       "    <tr>\n",
       "      <td>top</td>\n",
       "      <td>NaN</td>\n",
       "      <td>US</td>\n",
       "      <td>Seductively tart in lemon pith, cranberry and ...</td>\n",
       "      <td>Reserve</td>\n",
       "      <td>NaN</td>\n",
       "      <td>NaN</td>\n",
       "      <td>California</td>\n",
       "      <td>Napa Valley</td>\n",
       "      <td>Central Coast</td>\n",
       "      <td>Roger Voss</td>\n",
       "      <td>@vossroger</td>\n",
       "      <td>Segura Viudas NV Extra Dry Sparkling (Cava)</td>\n",
       "      <td>Pinot Noir</td>\n",
       "      <td>Wines &amp; Winemakers</td>\n",
       "    </tr>\n",
       "    <tr>\n",
       "      <td>freq</td>\n",
       "      <td>NaN</td>\n",
       "      <td>32688</td>\n",
       "      <td>3</td>\n",
       "      <td>1247</td>\n",
       "      <td>NaN</td>\n",
       "      <td>NaN</td>\n",
       "      <td>21743</td>\n",
       "      <td>2670</td>\n",
       "      <td>6736</td>\n",
       "      <td>15417</td>\n",
       "      <td>15417</td>\n",
       "      <td>7</td>\n",
       "      <td>7942</td>\n",
       "      <td>140</td>\n",
       "    </tr>\n",
       "    <tr>\n",
       "      <td>mean</td>\n",
       "      <td>64948.374048</td>\n",
       "      <td>NaN</td>\n",
       "      <td>NaN</td>\n",
       "      <td>NaN</td>\n",
       "      <td>88.450155</td>\n",
       "      <td>35.465274</td>\n",
       "      <td>NaN</td>\n",
       "      <td>NaN</td>\n",
       "      <td>NaN</td>\n",
       "      <td>NaN</td>\n",
       "      <td>NaN</td>\n",
       "      <td>NaN</td>\n",
       "      <td>NaN</td>\n",
       "      <td>NaN</td>\n",
       "    </tr>\n",
       "    <tr>\n",
       "      <td>std</td>\n",
       "      <td>37442.642506</td>\n",
       "      <td>NaN</td>\n",
       "      <td>NaN</td>\n",
       "      <td>NaN</td>\n",
       "      <td>3.046516</td>\n",
       "      <td>41.103730</td>\n",
       "      <td>NaN</td>\n",
       "      <td>NaN</td>\n",
       "      <td>NaN</td>\n",
       "      <td>NaN</td>\n",
       "      <td>NaN</td>\n",
       "      <td>NaN</td>\n",
       "      <td>NaN</td>\n",
       "      <td>NaN</td>\n",
       "    </tr>\n",
       "    <tr>\n",
       "      <td>min</td>\n",
       "      <td>0.000000</td>\n",
       "      <td>NaN</td>\n",
       "      <td>NaN</td>\n",
       "      <td>NaN</td>\n",
       "      <td>80.000000</td>\n",
       "      <td>4.000000</td>\n",
       "      <td>NaN</td>\n",
       "      <td>NaN</td>\n",
       "      <td>NaN</td>\n",
       "      <td>NaN</td>\n",
       "      <td>NaN</td>\n",
       "      <td>NaN</td>\n",
       "      <td>NaN</td>\n",
       "      <td>NaN</td>\n",
       "    </tr>\n",
       "    <tr>\n",
       "      <td>25%</td>\n",
       "      <td>32697.250000</td>\n",
       "      <td>NaN</td>\n",
       "      <td>NaN</td>\n",
       "      <td>NaN</td>\n",
       "      <td>86.000000</td>\n",
       "      <td>17.000000</td>\n",
       "      <td>NaN</td>\n",
       "      <td>NaN</td>\n",
       "      <td>NaN</td>\n",
       "      <td>NaN</td>\n",
       "      <td>NaN</td>\n",
       "      <td>NaN</td>\n",
       "      <td>NaN</td>\n",
       "      <td>NaN</td>\n",
       "    </tr>\n",
       "    <tr>\n",
       "      <td>50%</td>\n",
       "      <td>64754.000000</td>\n",
       "      <td>NaN</td>\n",
       "      <td>NaN</td>\n",
       "      <td>NaN</td>\n",
       "      <td>88.000000</td>\n",
       "      <td>25.000000</td>\n",
       "      <td>NaN</td>\n",
       "      <td>NaN</td>\n",
       "      <td>NaN</td>\n",
       "      <td>NaN</td>\n",
       "      <td>NaN</td>\n",
       "      <td>NaN</td>\n",
       "      <td>NaN</td>\n",
       "      <td>NaN</td>\n",
       "    </tr>\n",
       "    <tr>\n",
       "      <td>75%</td>\n",
       "      <td>97368.000000</td>\n",
       "      <td>NaN</td>\n",
       "      <td>NaN</td>\n",
       "      <td>NaN</td>\n",
       "      <td>91.000000</td>\n",
       "      <td>42.000000</td>\n",
       "      <td>NaN</td>\n",
       "      <td>NaN</td>\n",
       "      <td>NaN</td>\n",
       "      <td>NaN</td>\n",
       "      <td>NaN</td>\n",
       "      <td>NaN</td>\n",
       "      <td>NaN</td>\n",
       "      <td>NaN</td>\n",
       "    </tr>\n",
       "    <tr>\n",
       "      <td>max</td>\n",
       "      <td>129969.000000</td>\n",
       "      <td>NaN</td>\n",
       "      <td>NaN</td>\n",
       "      <td>NaN</td>\n",
       "      <td>100.000000</td>\n",
       "      <td>2500.000000</td>\n",
       "      <td>NaN</td>\n",
       "      <td>NaN</td>\n",
       "      <td>NaN</td>\n",
       "      <td>NaN</td>\n",
       "      <td>NaN</td>\n",
       "      <td>NaN</td>\n",
       "      <td>NaN</td>\n",
       "      <td>NaN</td>\n",
       "    </tr>\n",
       "  </tbody>\n",
       "</table>\n",
       "</div>"
      ],
      "text/plain": [
       "           Unnamed: 0 country  \\\n",
       "count    77982.000000   77943   \n",
       "unique            NaN      42   \n",
       "top               NaN      US   \n",
       "freq              NaN   32688   \n",
       "mean     64948.374048     NaN   \n",
       "std      37442.642506     NaN   \n",
       "min          0.000000     NaN   \n",
       "25%      32697.250000     NaN   \n",
       "50%      64754.000000     NaN   \n",
       "75%      97368.000000     NaN   \n",
       "max     129969.000000     NaN   \n",
       "\n",
       "                                              description designation  \\\n",
       "count                                               77982       55330   \n",
       "unique                                              74320       27151   \n",
       "top     Seductively tart in lemon pith, cranberry and ...     Reserve   \n",
       "freq                                                    3        1247   \n",
       "mean                                                  NaN         NaN   \n",
       "std                                                   NaN         NaN   \n",
       "min                                                   NaN         NaN   \n",
       "25%                                                   NaN         NaN   \n",
       "50%                                                   NaN         NaN   \n",
       "75%                                                   NaN         NaN   \n",
       "max                                                   NaN         NaN   \n",
       "\n",
       "              points         price    province     region_1       region_2  \\\n",
       "count   77982.000000  72568.000000       77943        65329          30329   \n",
       "unique           NaN           NaN         393         1146             17   \n",
       "top              NaN           NaN  California  Napa Valley  Central Coast   \n",
       "freq             NaN           NaN       21743         2670           6736   \n",
       "mean       88.450155     35.465274         NaN          NaN            NaN   \n",
       "std         3.046516     41.103730         NaN          NaN            NaN   \n",
       "min        80.000000      4.000000         NaN          NaN            NaN   \n",
       "25%        86.000000     17.000000         NaN          NaN            NaN   \n",
       "50%        88.000000     25.000000         NaN          NaN            NaN   \n",
       "75%        91.000000     42.000000         NaN          NaN            NaN   \n",
       "max       100.000000   2500.000000         NaN          NaN            NaN   \n",
       "\n",
       "       taster_name taster_twitter_handle  \\\n",
       "count        62232                 59215   \n",
       "unique          19                    15   \n",
       "top     Roger Voss            @vossroger   \n",
       "freq         15417                 15417   \n",
       "mean           NaN                   NaN   \n",
       "std            NaN                   NaN   \n",
       "min            NaN                   NaN   \n",
       "25%            NaN                   NaN   \n",
       "50%            NaN                   NaN   \n",
       "75%            NaN                   NaN   \n",
       "max            NaN                   NaN   \n",
       "\n",
       "                                              title     variety  \\\n",
       "count                                         77982       77981   \n",
       "unique                                        73824         644   \n",
       "top     Segura Viudas NV Extra Dry Sparkling (Cava)  Pinot Noir   \n",
       "freq                                              7        7942   \n",
       "mean                                            NaN         NaN   \n",
       "std                                             NaN         NaN   \n",
       "min                                             NaN         NaN   \n",
       "25%                                             NaN         NaN   \n",
       "50%                                             NaN         NaN   \n",
       "75%                                             NaN         NaN   \n",
       "max                                             NaN         NaN   \n",
       "\n",
       "                    winery  \n",
       "count                77982  \n",
       "unique               14410  \n",
       "top     Wines & Winemakers  \n",
       "freq                   140  \n",
       "mean                   NaN  \n",
       "std                    NaN  \n",
       "min                    NaN  \n",
       "25%                    NaN  \n",
       "50%                    NaN  \n",
       "75%                    NaN  \n",
       "max                    NaN  "
      ]
     },
     "execution_count": 3,
     "metadata": {},
     "output_type": "execute_result"
    }
   ],
   "source": [
    "train_df.describe(include='all')"
   ]
  },
  {
   "cell_type": "markdown",
   "metadata": {},
   "source": [
    "### Points\n",
    "\n",
    "It appears that the points are located between 80-100. This matches up with the source of the data that claims they do not publish reviews for any wine scored less than 80. More information on wine scoring can be viewed [here](https://www.winespectator.com/articles/scoring-scale)"
   ]
  },
  {
   "cell_type": "code",
   "execution_count": 4,
   "metadata": {},
   "outputs": [
    {
     "data": {
      "image/png": "[encoded data removed]",
      "text/plain": [
       "<Figure size 432x288 with 1 Axes>"
      ]
     },
     "metadata": {
      "needs_background": "light"
     },
     "output_type": "display_data"
    }
   ],
   "source": [
    "_ = sns.distplot(train_df.points, bins=21, kde_kws={'bw':1})"
   ]
  },
  {
   "cell_type": "markdown",
   "metadata": {},
   "source": [
    "So it looks like this is a textbook normal distribution with an incredibly slight left skew. Let's just make sure that every value is represented."
   ]
  },
  {
   "cell_type": "code",
   "execution_count": 5,
   "metadata": {},
   "outputs": [
    {
     "name": "stdout",
     "output_type": "stream",
     "text": [
      "[ 80  81  82  83  84  85  86  87  88  89  90  91  92  93  94  95  96  97\n",
      "  98  99 100]\n"
     ]
    }
   ],
   "source": [
    "print(np.sort(train_df.points.unique()))"
   ]
  },
  {
   "cell_type": "markdown",
   "metadata": {},
   "source": [
    "Any missing values?"
   ]
  },
  {
   "cell_type": "code",
   "execution_count": 6,
   "metadata": {},
   "outputs": [
    {
     "data": {
      "text/plain": [
       "0"
      ]
     },
     "execution_count": 6,
     "metadata": {},
     "output_type": "execute_result"
    }
   ],
   "source": [
    "train_df.points.isna().sum()"
   ]
  },
  {
   "cell_type": "markdown",
   "metadata": {},
   "source": [
    "### Price\n",
    "\n",
    "Since this is related to currency, I bet my lunch this is a heavy tailed distribution. Let's see."
   ]
  },
  {
   "cell_type": "code",
   "execution_count": 7,
   "metadata": {},
   "outputs": [
    {
     "name": "stdout",
     "output_type": "stream",
     "text": [
      "Missing values: 5414\n"
     ]
    },
    {
     "data": {
      "text/plain": [
       "<matplotlib.axes._subplots.AxesSubplot at 0x7f5d0cdd6250>"
      ]
     },
     "execution_count": 7,
     "metadata": {},
     "output_type": "execute_result"
    },
    {
     "data": {
      "image/png": "[encoded data removed]",
      "text/plain": [
       "<Figure size 432x288 with 1 Axes>"
      ]
     },
     "metadata": {
      "needs_background": "light"
     },
     "output_type": "display_data"
    }
   ],
   "source": [
    "print(f'Missing values: {train_df.price.isna().sum()}')\n",
    "\n",
    "# let's remove the missing prices for now\n",
    "sns.distplot(train_df[~train_df.price.isna()].price)"
   ]
  },
  {
   "cell_type": "markdown",
   "metadata": {},
   "source": [
    "Nice... lets log scale this."
   ]
  },
  {
   "cell_type": "code",
   "execution_count": 8,
   "metadata": {},
   "outputs": [
    {
     "name": "stderr",
     "output_type": "stream",
     "text": [
      "/opt/miniconda3/envs/jupyter/lib/python3.7/site-packages/ipykernel_launcher.py:1: SettingWithCopyWarning: \n",
      "A value is trying to be set on a copy of a slice from a DataFrame.\n",
      "Try using .loc[row_indexer,col_indexer] = value instead\n",
      "\n",
      "See the caveats in the documentation: http://pandas.pydata.org/pandas-docs/stable/user_guide/indexing.html#returning-a-view-versus-a-copy\n",
      "  \"\"\"Entry point for launching an IPython kernel.\n"
     ]
    },
    {
     "data": {
      "image/png": "[encoded data removed]",
      "text/plain": [
       "<Figure size 432x288 with 1 Axes>"
      ]
     },
     "metadata": {
      "needs_background": "light"
     },
     "output_type": "display_data"
    }
   ],
   "source": [
    "train_df['price_log'] = np.log(train_df.price)\n",
    "ax = sns.distplot(train_df[~train_df.price_log.isna()].price_log, bins=100)"
   ]
  },
  {
   "cell_type": "markdown",
   "metadata": {},
   "source": [
    "Just out of curiosity, I see that the lowest price is 4 dollars... what's the score on those?"
   ]
  },
  {
   "cell_type": "code",
   "execution_count": 9,
   "metadata": {},
   "outputs": [
    {
     "data": {
      "text/plain": [
       "84.2"
      ]
     },
     "execution_count": 9,
     "metadata": {},
     "output_type": "execute_result"
    }
   ],
   "source": [
    "train_df[train_df.price == 4].points.mean()"
   ]
  },
  {
   "cell_type": "markdown",
   "metadata": {},
   "source": [
    "### String Columns"
   ]
  },
  {
   "cell_type": "code",
   "execution_count": 10,
   "metadata": {},
   "outputs": [
    {
     "name": "stdout",
     "output_type": "stream",
     "text": [
      "Non-Continuous columns: ['country', 'description', 'designation', 'province', 'region_1', 'region_2', 'taster_name', 'taster_twitter_handle', 'title', 'variety', 'winery']\n"
     ]
    }
   ],
   "source": [
    "non_cont_columns = train_df.columns[train_df.dtypes == np.object]\n",
    "print(f'Non-Continuous columns: {list(non_cont_columns)}')"
   ]
  },
  {
   "cell_type": "markdown",
   "metadata": {},
   "source": [
    "Let's start by focusing on the descriptions. We'll tokenize, canonize, construct a vocabulary, and finally get counts for each of the items."
   ]
  },
  {
   "cell_type": "code",
   "execution_count": null,
   "metadata": {},
   "outputs": [],
   "source": [
    "counter = collections.Counter()\n",
    "\n",
    "for s in train_df.description:\n",
    "    s = s.lower()\n",
    "    tokenized = nltk.tokenize.word_tokenize(s)\n",
    "    counter.update(tokenized)\n",
    "\n",
    "vocab = counter.items()\n",
    "print(len(vocab))"
   ]
  },
  {
   "cell_type": "code",
   "execution_count": null,
   "metadata": {},
   "outputs": [],
   "source": [
    "# view most common words \n",
    "most_common = counter.most_common(25)\n",
    "print(most_common)"
   ]
  },
  {
   "cell_type": "markdown",
   "metadata": {},
   "source": [
    "One very interesting thing viewed here is that in the most common words are very wine specific words. This is pretty obvious in hindsight, but it made me laugh to see wine just outside of the top 10."
   ]
  },
  {
   "cell_type": "markdown",
   "metadata": {},
   "source": [
    "### Tasters\n",
    "Now let's look at the tasters. We'll see how many there are, and the distribution of the number of reviews each has given"
   ]
  },
  {
   "cell_type": "code",
   "execution_count": null,
   "metadata": {},
   "outputs": [],
   "source": [
    "tasters = train_df.taster_name.dropna().unique()\n",
    "print(f'{len(tasters)} Tasters: {list(tasters)}')\n",
    "train_df.taster_name = train_df.taster_name.astype('category')\n",
    "\n",
    "taster_counts  = train_df.taster_name.value_counts()\n",
    "ax = sns.countplot(train_df.taster_name, order=taster_counts.index)\n",
    "_ = ax.set_xticklabels(taster_counts.index, rotation=90)"
   ]
  },
  {
   "cell_type": "markdown",
   "metadata": {},
   "source": [
    "As expected, there appears to be a Zeta distribution in the contributions of each taster. Let's what the numbers are on the 3 least active contributors: Carrie Dykes, Fiona Adams, and Christina Pickard."
   ]
  },
  {
   "cell_type": "code",
   "execution_count": null,
   "metadata": {},
   "outputs": [],
   "source": [
    "print(taster_counts[['Carrie Dykes', 'Fiona Adams', 'Christina Pickard']])"
   ]
  },
  {
   "cell_type": "markdown",
   "metadata": {},
   "source": [
    "We'll need to keep this in mind for subsequent analysis since the data related to their contributions will likely not be as representative as someone on the center or left of the distribution\n",
    "\n",
    "#### Taster Vocabulary\n",
    "Just for funsies, let's look at the vocabulary of each individual taster"
   ]
  },
  {
   "cell_type": "code",
   "execution_count": null,
   "metadata": {},
   "outputs": [],
   "source": [
    "taster_vocabs = {n: collections.Counter() for n in tasters}\n",
    "\n",
    "for _, row in train_df[~train_df.taster_name.isna()].iterrows():\n",
    "    taster = row.taster_name\n",
    "    s = row.description\n",
    "    s = s.lower()\n",
    "    tokenized = nltk.tokenize.word_tokenize(s)\n",
    "    taster_vocabs[taster].update(tokenized)"
   ]
  },
  {
   "cell_type": "code",
   "execution_count": null,
   "metadata": {},
   "outputs": [],
   "source": [
    "taster_vocab_lens = {k: len(v.items()) for k, v in taster_vocabs.items()}\n",
    "taster_vocab_lens = pd.Series(taster_vocab_lens).sort_values().iloc[::-1]\n",
    "\n",
    "ax = sns.barplot(x=taster_vocab_lens.index, y=taster_vocab_lens)\n",
    "_ = ax.set_xticklabels(taster_vocab_lens.index, rotation=90)"
   ]
  },
  {
   "cell_type": "markdown",
   "metadata": {},
   "source": [
    "As expected, Roger Voss is up top since he has had the most opportunity to use unique words. Let's compare the two lists."
   ]
  },
  {
   "cell_type": "code",
   "execution_count": null,
   "metadata": {},
   "outputs": [],
   "source": [
    "compare_list = []\n",
    "\n",
    "contribution_count_list = list(taster_counts.index)\n",
    "\n",
    "print('Vocab Size compared to Contribution:')\n",
    "for vocab_idx, taster in enumerate(taster_vocab_lens.index):\n",
    "    count_idx = contribution_count_list.index(taster)\n",
    "    diff = count_idx - vocab_idx\n",
    "    print(f'\\t{vocab_idx + 1}: {taster} ({diff:+d})')"
   ]
  },
  {
   "cell_type": "markdown",
   "metadata": {},
   "source": [
    "Kerin O'Keefe appears to be relatively bland in her word usage. \n",
    "\n",
    "#### Taster Score Distribution\n",
    "Let's look at each reviewer's score distribution to make sure we don't have any biased reviewers"
   ]
  },
  {
   "cell_type": "code",
   "execution_count": null,
   "metadata": {},
   "outputs": [],
   "source": [
    "cols = 4\n",
    "rows = math.ceil(len(tasters) / float(cols))\n",
    "figs, axes = plt.subplots(rows, cols, figsize=(20,20))\n",
    "axes = axes.flatten()\n",
    "for taster, ax in zip(tasters, axes):\n",
    "    taster_reviews = train_df[train_df.taster_name == taster]\n",
    "    ax = sns.distplot(taster_reviews.points, ax=ax, bins=20)\n",
    "    ax.set_title(taster)\n",
    "\n",
    "plt.tight_layout()"
   ]
  },
  {
   "cell_type": "markdown",
   "metadata": {},
   "source": [
    "There isn't any bias immediately apparent for any of the reviewers, although this is difficult to ascertain due to the large range in the number of reviews per taster.\n",
    "\n",
    "#### Taster Price Distribution\n",
    "\n",
    "And now let's look at the distribution of the log price for each reviewer"
   ]
  },
  {
   "cell_type": "code",
   "execution_count": null,
   "metadata": {},
   "outputs": [],
   "source": [
    "cols = 4\n",
    "rows = math.ceil(len(tasters) / float(cols))\n",
    "figs, axes = plt.subplots(rows, cols, figsize=(20,20))\n",
    "axes = axes.flatten()\n",
    "for taster, ax in zip(tasters, axes):\n",
    "    taster_reviews = train_df[(train_df.taster_name == taster) & ~train_df.price_log.isna()]\n",
    "    ax = sns.distplot(taster_reviews.price_log, ax=ax, bins=20)\n",
    "    ax.set_title(taster)\n",
    "\n",
    "plt.tight_layout()"
   ]
  },
  {
   "cell_type": "markdown",
   "metadata": {},
   "source": [
    "### Unique Words\n",
    "Let's look at the top 3 unique words used by the tasters. We'll do this by iteratively constructing of the top 3 words used by each taster and removing any duplicate words across top 3 lists."
   ]
  },
  {
   "cell_type": "code",
   "execution_count": null,
   "metadata": {},
   "outputs": [],
   "source": [
    "stop_words = nltk.corpus.stopwords.words('english')\n",
    "\n",
    "# collect the top 25 words from the corpus (not including nltk stop words)\n",
    "top_domain_specific_words = []\n",
    "n = 25\n",
    "for word, count in counter.most_common():\n",
    "    if word in stop_words:\n",
    "        continue\n",
    "    \n",
    "    top_domain_specific_words.append(word)\n",
    "    if len(top_domain_specific_words) == n:\n",
    "        break\n",
    "        \n",
    "all_stop_words = list(string.punctuation) + top_domain_specific_words + stop_words\n",
    "\n",
    "n = 3\n",
    "top_vocab = {}\n",
    "for taster_name in taster_vocabs:\n",
    "    taster_vocab = taster_vocabs[taster_name]\n",
    "    \n",
    "    unique_words = []\n",
    "    for word, count in taster_vocab.most_common():\n",
    "        if word in all_stop_words:\n",
    "            continue\n",
    "        \n",
    "        unique_words.append(word)\n",
    "        if len(unique_words) == n:\n",
    "            break\n",
    "        \n",
    "    top_vocab[taster_name] = unique_words\n",
    "        \n",
    "for taster_name, words in top_vocab.items():\n",
    "    print(f'{taster_name}: ')\n",
    "    for i, w in enumerate(words):\n",
    "        print(f'\\t{i+1}: {w}')"
   ]
  },
  {
   "cell_type": "markdown",
   "metadata": {},
   "source": [
    "Let's see what words are most strongly correlated with price"
   ]
  },
  {
   "cell_type": "code",
   "execution_count": null,
   "metadata": {},
   "outputs": [],
   "source": [
    "vec = CountVectorizer(\n",
    "    lowercase=True,\n",
    "    stop_words=stop_words,\n",
    "    ngram_range=(1,1),\n",
    "    min_df=10\n",
    ")\n",
    "X = vec.fit_transform(train_df.description)\n",
    "print(len(vec.vocabulary_))"
   ]
  },
  {
   "cell_type": "code",
   "execution_count": null,
   "metadata": {},
   "outputs": [],
   "source": [
    "points_np = np.expand_dims(train_df.points, axis=0)\n",
    "X_arr = X.toarray().T\n",
    "points_np = np.concatenate([X_arr, points_np], axis=0)\n",
    "corr_mtx = np.corrcoef(points_np)"
   ]
  },
  {
   "cell_type": "code",
   "execution_count": null,
   "metadata": {},
   "outputs": [],
   "source": [
    "score_corr = corr_mtx[-1][:-1]\n",
    "\n",
    "# clear up some memory\n",
    "del points_np\n",
    "del X_arr\n",
    "del corr_mtx"
   ]
  },
  {
   "cell_type": "code",
   "execution_count": null,
   "metadata": {},
   "outputs": [],
   "source": [
    "corr_sorted_idx = np.argsort(score_corr)\n",
    "\n",
    "n = 10\n",
    "vocab_words = list(vec.vocabulary_.keys())\n",
    "print('Highest correlations:')\n",
    "for i, idx in enumerate(corr_sorted_idx[-1:-n:-1]):\n",
    "    corr = score_corr[idx]\n",
    "    word = vocab_words[idx]\n",
    "    print(f'\\t{i+1}. {word}: {corr}')\n",
    "    \n",
    "print('Lowest correlations:')\n",
    "for i, idx in enumerate(corr_sorted_idx[:n]):\n",
    "    corr = score_corr[idx]\n",
    "    word = vocab_words[idx]\n",
    "    print(f'\\t{i+1}. {word}: {corr}')"
   ]
  }
 ],
 "metadata": {
  "kernelspec": {
   "display_name": "Python 3",
   "language": "python",
   "name": "python3"
  },
  "language_info": {
   "codemirror_mode": {
    "name": "ipython",
    "version": 3
   },
   "file_extension": ".py",
   "mimetype": "text/x-python",
   "name": "python",
   "nbconvert_exporter": "python",
   "pygments_lexer": "ipython3",
   "version": "3.7.4"
  }
 },
 "nbformat": 4,
 "nbformat_minor": 4
}
